{
 "cells": [
  {
   "cell_type": "markdown",
   "id": "e539576f",
   "metadata": {},
   "source": [
    "# 1."
   ]
  },
  {
   "cell_type": "code",
   "execution_count": 3,
   "id": "a3a1f744",
   "metadata": {},
   "outputs": [
    {
     "ename": "TypeError",
     "evalue": "'str' object does not support item assignment",
     "output_type": "error",
     "traceback": [
      "\u001b[1;31m---------------------------------------------------------------------------\u001b[0m",
      "\u001b[1;31mTypeError\u001b[0m                                 Traceback (most recent call last)",
      "Cell \u001b[1;32mIn[3], line 8\u001b[0m\n\u001b[0;32m      1\u001b[0m \u001b[38;5;66;03m# Yes, assigning a value to a string's indexed character violates Python's string immutability. In Python, strings are immutable, \u001b[39;00m\n\u001b[0;32m      2\u001b[0m \u001b[38;5;66;03m# which means that once a string is created, its contents cannot be changed or modified. When you try to assign a value to a \u001b[39;00m\n\u001b[0;32m      3\u001b[0m \u001b[38;5;66;03m# specific character of a string, you are attempting to modify the string in-place, which is not allowed for immutable objects \u001b[39;00m\n\u001b[0;32m      4\u001b[0m \u001b[38;5;66;03m# like strings.\u001b[39;00m\n\u001b[0;32m      5\u001b[0m \n\u001b[0;32m      6\u001b[0m \u001b[38;5;66;03m# example:\u001b[39;00m\n\u001b[0;32m      7\u001b[0m s \u001b[38;5;241m=\u001b[39m \u001b[38;5;124m\"\u001b[39m\u001b[38;5;124mhello\u001b[39m\u001b[38;5;124m\"\u001b[39m\n\u001b[1;32m----> 8\u001b[0m s[\u001b[38;5;241m0\u001b[39m] \u001b[38;5;241m=\u001b[39m \u001b[38;5;124m'\u001b[39m\u001b[38;5;124mH\u001b[39m\u001b[38;5;124m'\u001b[39m\n",
      "\u001b[1;31mTypeError\u001b[0m: 'str' object does not support item assignment"
     ]
    }
   ],
   "source": [
    "# Yes, assigning a value to a string's indexed character violates Python's string immutability. In Python, strings are immutable, \n",
    "# which means that once a string is created, its contents cannot be changed or modified. When you try to assign a value to a \n",
    "# specific character of a string,as we are attempting to modify the string in-place, which is not allowed for immutable objects \n",
    "# like strings.\n",
    "\n",
    "# example:\n",
    "s = \"hello\"\n",
    "s[0] = 'H'  # This will raise a TypeError: 'str' object does not support item assignment"
   ]
  },
  {
   "cell_type": "markdown",
   "id": "b1b3567b",
   "metadata": {},
   "source": [
    "# 2."
   ]
  },
  {
   "cell_type": "code",
   "execution_count": 5,
   "id": "1a701949",
   "metadata": {},
   "outputs": [
    {
     "name": "stdout",
     "output_type": "stream",
     "text": [
      "hello world\n"
     ]
    }
   ],
   "source": [
    "# No, using the += operator to concatenate strings does not violate Python's string immutability. The reason is that the\n",
    "#  += operator does not modify the original string in place; instead, it creates a new string object that is the result of\n",
    "#  concatenating the original string with the provided value.\n",
    "\n",
    "# When you use the += operator with strings, Python internally creates a new string that contains the concatenated result and\n",
    "# then assigns this new string back to the variable. This operation does not modify the original string object; it creates \n",
    "# a new one.\n",
    "\n",
    "# example:\n",
    "s = \"hello\"\n",
    "s += \" world\"  # Using += operator to concatenate\n",
    "print(s)  "
   ]
  },
  {
   "cell_type": "markdown",
   "id": "837580f5",
   "metadata": {},
   "source": [
    "# 3."
   ]
  },
  {
   "cell_type": "code",
   "execution_count": 6,
   "id": "3d3e5414",
   "metadata": {},
   "outputs": [
    {
     "name": "stdout",
     "output_type": "stream",
     "text": [
      "h\n",
      "l\n"
     ]
    }
   ],
   "source": [
    "# In Python, you can index a character in a string in several different ways:\n",
    "    \n",
    "# a) Positive Indexing: The most common way is using positive indexing, where you specify the position of the character \n",
    "#     starting from 0 for the first character, 1 for the second character, and so on.\n",
    "\n",
    "# example:\n",
    "s = \"hello\"\n",
    "print(s[0]) \n",
    "print(s[2])  "
   ]
  },
  {
   "cell_type": "code",
   "execution_count": 8,
   "id": "47e1c9ec",
   "metadata": {},
   "outputs": [
    {
     "name": "stdout",
     "output_type": "stream",
     "text": [
      "el\n"
     ]
    }
   ],
   "source": [
    "# b) Slicing: You can use slicing to extract a substring from a string, which can include a single character. Slicing allows you \n",
    "#     to specify a range of indices.\n",
    "    \n",
    "# example:\n",
    "s = \"hello\"\n",
    "print(s[1:3])  "
   ]
  },
  {
   "cell_type": "code",
   "execution_count": 9,
   "id": "67c4d16e",
   "metadata": {},
   "outputs": [
    {
     "name": "stdout",
     "output_type": "stream",
     "text": [
      "hlo\n"
     ]
    }
   ],
   "source": [
    "# c) Striding: Striding allows you to skip characters while indexing or slicing. You can specify a stride value in the indexing \n",
    "#     or slicing operation.\n",
    "    \n",
    "# example:\n",
    "s = \"hello\"\n",
    "print(s[::2])  "
   ]
  },
  {
   "cell_type": "markdown",
   "id": "1e10118d",
   "metadata": {},
   "source": [
    "# 4."
   ]
  },
  {
   "cell_type": "code",
   "execution_count": 12,
   "id": "abe3e786",
   "metadata": {},
   "outputs": [
    {
     "name": "stdout",
     "output_type": "stream",
     "text": [
      "h\n",
      "ell\n",
      "hel\n",
      "hlo\n"
     ]
    }
   ],
   "source": [
    "# Indexing and slicing are closely related concepts in Python, particularly when dealing with sequences like strings, lists, \n",
    "# tuples, etc.\n",
    "\n",
    "# a) Indexing:\n",
    "\n",
    "# 1. Indexing refers to accessing individual elements (characters in the case of strings) within a sequence.\n",
    "# 2. It involves specifying a single position (index) to retrieve the element at that position.\n",
    "# 3. Indexing is zero-based in Python, meaning the first element has an index of 0, the second element has an index of 1, \n",
    "#     and so on.\n",
    "# 4. You can use both positive and negative indices for indexing.\n",
    "\n",
    "# b) Slicing:\n",
    "\n",
    "# 1. Slicing refers to extracting a portion (substring in the case of strings) of a sequence.\n",
    "# 2. It involves specifying a range of indices (start, stop, and optionally step) to extract elements within that range.\n",
    "# 3. The syntax for slicing is [start:stop:step], where start is the index to start the slice (inclusive), stop is the index\n",
    "#     to end the slice (exclusive), and step is the increment between elements (default is 1).\n",
    "# 4. Slicing returns a new sequence containing the extracted elements.\n",
    "\n",
    "# Relationship between Indexing and Slicing:\n",
    "\n",
    "# 1. Slicing builds upon indexing by allowing you to extract multiple elements or a range of elements from a sequence using\n",
    "#     a concise syntax.\n",
    "# 2. Slicing uses indexing internally to determine which elements to include in the slice.\n",
    "# 3. While indexing gives you access to individual elements, slicing provides more flexibility to work with subsequences of \n",
    "#     a sequence.\n",
    "    \n",
    "# example:\n",
    "s = \"hello\"\n",
    "print(s[0])      \n",
    "print(s[1:4])     \n",
    "print(s[:3])     \n",
    "print(s[::2])   "
   ]
  },
  {
   "cell_type": "markdown",
   "id": "febe68bc",
   "metadata": {},
   "source": [
    "# 5."
   ]
  },
  {
   "cell_type": "code",
   "execution_count": 13,
   "id": "c430441b",
   "metadata": {},
   "outputs": [
    {
     "name": "stdout",
     "output_type": "stream",
     "text": [
      "<class 'str'>\n",
      "e\n",
      "<class 'str'>\n",
      "ell\n"
     ]
    }
   ],
   "source": [
    "# In Python, an indexed character extracted from a string has the exact data type of str, which represents a Unicode string. \n",
    "# This means that when you index a string to access a specific character, you get back a string object containing that character.\n",
    "\n",
    "# Similarly, a substring generated by slicing a string also has the data type of str. When you slice a string to extract a \n",
    "# portion of it, the resulting substring is still a string object.\n",
    "\n",
    "# example:\n",
    "s = \"hello\"\n",
    "\n",
    "# Indexing to get a character\n",
    "char = s[1]\n",
    "print(type(char))  \n",
    "print(char)        \n",
    "\n",
    "# Slicing to get a substring\n",
    "substring = s[1:4]\n",
    "print(type(substring))  \n",
    "print(substring)        "
   ]
  },
  {
   "cell_type": "markdown",
   "id": "23d83195",
   "metadata": {},
   "source": [
    "# 6."
   ]
  },
  {
   "cell_type": "code",
   "execution_count": 14,
   "id": "8ae96490",
   "metadata": {},
   "outputs": [],
   "source": [
    "# In Python, the relationship between strings and characters is quite straightforward:\n",
    "\n",
    "# a) String: A string is a sequence of characters enclosed within either single quotes (') or double quotes (\"). It can contain \n",
    "#     zero or more characters, including letters, numbers, symbols, and even spaces.\n",
    "\n",
    "# b) Character: A character is a single unit of text, such as a letter, number, punctuation mark, or symbol. In Python,\n",
    "#     characters are represented as strings with a length of 1.\n",
    "\n",
    "# The key points regarding the relationship between strings and characters in Python are:\n",
    "\n",
    "# 1. A string can consist of one or more characters.\n",
    "# 2. Each character within a string is itself a string of length 1.\n",
    "# 3. Characters within a string can be accessed using indexing or slicing operations, just like elements in any other sequence.\n",
    "\n",
    "# example:\n",
    "# String with multiple characters\n",
    "text = \"Hello, World!\"\n",
    "\n",
    "# Accessing individual characters (which are themselves strings of length 1)\n",
    "first_char = text[0]  # 'H'\n",
    "second_char = text[1]  # 'e'\n",
    "\n",
    "# Checking if a character is in the string\n",
    "is_comma_present = ',' in text  # True"
   ]
  },
  {
   "cell_type": "markdown",
   "id": "0de570a2",
   "metadata": {},
   "source": [
    "# 7."
   ]
  },
  {
   "cell_type": "code",
   "execution_count": 16,
   "id": "57b3c2fa",
   "metadata": {},
   "outputs": [],
   "source": [
    "# In Python, you can combine smaller strings to create a larger string using various operators and methods. \n",
    "\n",
    "# Common operators and one method for string concatenation are:\n",
    "\n",
    "# a) Concatenation Operator (+): The + operator is used to concatenate two or more strings together. It joins the strings in the\n",
    "#     order they are specified.\n",
    "    \n",
    "# example:\n",
    "str1 = \"Hello\"\n",
    "str2 = \"World\"\n",
    "combined_str = str1 + \" \" + str2  # Result: \"Hello World\""
   ]
  },
  {
   "cell_type": "code",
   "execution_count": 17,
   "id": "a48dafbc",
   "metadata": {},
   "outputs": [],
   "source": [
    "# b) Augmented Assignment Operator (+=): The += operator is a shorthand for concatenation followed by assignment. It appends the \n",
    "#     right-hand side string to the left-hand side string and assigns the result back to the left-hand side variable.\n",
    "    \n",
    "# example:\n",
    "str1 = \"Hello\"\n",
    "str2 = \"World\"\n",
    "str1 += \" \" + str2  # Result: \"Hello World\""
   ]
  },
  {
   "cell_type": "code",
   "execution_count": 18,
   "id": "b24798c6",
   "metadata": {},
   "outputs": [],
   "source": [
    "# c) Join Method (str.join(iterable)): The join method is a string method that joins the elements of an iterable (e.g., a list \n",
    "#     of strings) using the string as a separator. It returns a new string where each element of the iterable is separated by \n",
    "#     the string on which join was called.\n",
    "    \n",
    "# example:\n",
    "words = [\"Hello\", \"World\"]\n",
    "combined_str = \" \".join(words)  # Result: \"Hello World\""
   ]
  },
  {
   "cell_type": "markdown",
   "id": "33038b0d",
   "metadata": {},
   "source": [
    "# 8."
   ]
  },
  {
   "cell_type": "code",
   "execution_count": 19,
   "id": "1fd2fb41",
   "metadata": {},
   "outputs": [
    {
     "name": "stdout",
     "output_type": "stream",
     "text": [
      "Substring found at index: 0\n"
     ]
    }
   ],
   "source": [
    "# Checking if a target string contains a substring using the in or not in operators before using the index method to\n",
    "# find the substring has several benefits:\n",
    "\n",
    "# a) Error Handling: Using in or not in allows you to check if the substring exists in the target string before attempting \n",
    "#     to find its index. This can help prevent errors such as ValueError that might occur when trying to find the index of \n",
    "#     a substring that doesn't exist in the target string.\n",
    "\n",
    "# b) Efficiency: Checking for substring existence using in or not in is often more efficient than using the index method directly.\n",
    "#     This is because in or not in performs a simple membership check, which is generally faster than searching for the index\n",
    "#     of a substring, especially in large strings.\n",
    "\n",
    "# c) Code Readability: Checking for substring existence before using index improves code readability and makes the intent clearer.\n",
    "#     It explicitly states that you are interested in the presence or absence of a substring before proceeding with further\n",
    "#     operations.\n",
    "\n",
    "# d) Conditional Logic: Checking for substring existence allows you to incorporate conditional logic based on whether the \n",
    "#     substring is present or not. You can perform different actions depending on whether the substring is found or not, \n",
    "#     which adds flexibility to your code.\n",
    "    \n",
    "# example:\n",
    "target_str = \"Hello, World!\"\n",
    "\n",
    "# Check if \"Hello\" exists in the target string\n",
    "if \"Hello\" in target_str:\n",
    "    index = target_str.index(\"Hello\")\n",
    "    print(f\"Substring found at index: {index}\")\n",
    "else:\n",
    "    print(\"Substring not found\")"
   ]
  },
  {
   "cell_type": "markdown",
   "id": "d4bd7c44",
   "metadata": {},
   "source": [
    "# 9."
   ]
  },
  {
   "cell_type": "code",
   "execution_count": 21,
   "id": "2c6f176a",
   "metadata": {},
   "outputs": [
    {
     "name": "stdout",
     "output_type": "stream",
     "text": [
      "True\n",
      "True\n",
      "True\n",
      "True\n",
      "False\n",
      "True\n"
     ]
    }
   ],
   "source": [
    "# Several operators and built-in string methods in Python produce simple Boolean (true/false) results:\n",
    "\n",
    "# Operators:\n",
    "\n",
    "# a) Comparison Operators: These operators compare two values and return a Boolean result (True or False). Examples include:\n",
    "\n",
    "# == (equal to)\n",
    "# != (not equal to)\n",
    "# < (less than)\n",
    "# > (greater than)\n",
    "# <= (less than or equal to)\n",
    "# >= (greater than or equal to)\n",
    "\n",
    "# b) Membership Operators: These operators check if a value is present in a sequence and return a Boolean result. \n",
    "\n",
    "# Examples:\n",
    "# in (checks if a value is in a sequence)\n",
    "# not in (checks if a value is not in a sequence)\n",
    "\n",
    "# c) Logical Operators: These operators perform logical operations and return a Boolean result. Examples include:\n",
    "\n",
    "# and (logical AND)\n",
    "# or (logical OR)\n",
    "# not (logical NOT)\n",
    "\n",
    "# Built-in String Methods:\n",
    "\n",
    "# 1. startswith(prefix): Returns True if the string starts with the specified prefix, otherwise False.\n",
    "# 2. endswith(suffix): Returns True if the string ends with the specified suffix, otherwise False.\n",
    "# 3. isalpha(): Returns True if all characters in the string are alphabetic (letters), otherwise False.\n",
    "# 4. isdigit(): Returns True if all characters in the string are digits, otherwise False.\n",
    "# 5. islower(): Returns True if all alphabetic characters in the string are lowercase, otherwise False.\n",
    "# 6. isupper(): Returns True if all alphabetic characters in the string are uppercase, otherwise False.\n",
    "# 7. isspace(): Returns True if all characters in the string are whitespace characters, otherwise False.\n",
    "    \n",
    "# example:\n",
    "# Operators\n",
    "result = 5 < 10 \n",
    "print(result)\n",
    "result = 'apple' in 'pineapple'  \n",
    "print(result)\n",
    "result = 'hello'.startswith('he') \n",
    "print(result)\n",
    "\n",
    "# String Methods\n",
    "result = '1234'.isdigit() \n",
    "print(result)\n",
    "result = 'Python'.islower()  \n",
    "print(result)\n",
    "result = '   '.isspace() \n",
    "print(result)"
   ]
  },
  {
   "cell_type": "code",
   "execution_count": null,
   "id": "c30b2d1e",
   "metadata": {},
   "outputs": [],
   "source": []
  }
 ],
 "metadata": {
  "kernelspec": {
   "display_name": "Python 3 (ipykernel)",
   "language": "python",
   "name": "python3"
  },
  "language_info": {
   "codemirror_mode": {
    "name": "ipython",
    "version": 3
   },
   "file_extension": ".py",
   "mimetype": "text/x-python",
   "name": "python",
   "nbconvert_exporter": "python",
   "pygments_lexer": "ipython3",
   "version": "3.11.5"
  }
 },
 "nbformat": 4,
 "nbformat_minor": 5
}
